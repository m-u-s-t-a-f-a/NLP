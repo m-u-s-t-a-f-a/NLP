{
 "cells": [
  {
   "cell_type": "markdown",
   "metadata": {},
   "source": [
    "# Text Parser for Different File Formats "
   ]
  },
  {
   "cell_type": "code",
   "execution_count": null,
   "metadata": {},
   "outputs": [],
   "source": [
    "import pandas as pd\n",
    "import os"
   ]
  },
  {
   "cell_type": "markdown",
   "metadata": {},
   "source": [
    "## List files in Directory by file format"
   ]
  },
  {
   "cell_type": "code",
   "execution_count": null,
   "metadata": {},
   "outputs": [],
   "source": [
    "# List of files in the specified directory by file format\n",
    "\n",
    "# Update 'directory_in_str' and 'label' variables\n",
    "directory_in_str = r\"C:\\Users\\\"\n",
    "label = 0 \n",
    "\n",
    "directory = os.fspath(directory_in_str)        \n",
    "\n",
    "filesDocx = []\n",
    "filesPdf = []\n",
    "filesMsg = []\n",
    "filesEml = []\n",
    "filesXls = []\n",
    "filesPpt = []\n",
    "filesOther = []\n",
    "\n",
    "for file in os.listdir(directory):\n",
    "#     files.append(os.path.join(directory, file))    \n",
    "\n",
    "    if file.endswith(\".docx\") or file.endswith(\".doc\") or file.endswith(\".DOC\"):\n",
    "        filesDocx.append(os.path.join(directory, file))  \n",
    "        continue\n",
    "        \n",
    "    if file.endswith(\".pdf\"):\n",
    "        filesPdf.append(os.path.join(directory, file)) \n",
    "        continue\n",
    "        \n",
    "    if file.endswith(\".msg\"):\n",
    "        filesMsg.append(os.path.join(directory, file)) \n",
    "        continue\n",
    "    \n",
    "    if file.endswith(\".eml\"): \n",
    "        filesEml.append(os.path.join(directory, file)) \n",
    "        continue\n",
    "    \n",
    "    if file.endswith(\".xlsx\") or file.endswith(\".xls\") or file.endswith(\".xlsm\") or file.endswith(\".xlm\"):\n",
    "        filesXls.append(os.path.join(directory, file)) \n",
    "        continue\n",
    "    \n",
    "    if file.endswith(\".pptx\") or file.endswith(\".ppt\"):\n",
    "        filesPpt.append(os.path.join(directory, file))  \n",
    "        continue\n",
    "        \n",
    "    else: \n",
    "        filesOther.append(os.path.join(directory, file)) \n",
    "              \n",
    "print(\"Docx files: %d\" %len(filesDocx))\n",
    "print(\"Pdf files: %d\" %len(filesPdf))\n",
    "print(\"Msg files: %d\" %len(filesMsg))\n",
    "print(\"Eml files: %d\" %len(filesEml))\n",
    "print(\"Xls files: %d\" %len(filesXls))\n",
    "print(\"Ppt files: %d\" %len(filesPpt))\n",
    "print(\"Other files: %d\" %len(filesOther))\n",
    "\n",
    "# files#[:10]"
   ]
  },
  {
   "cell_type": "code",
   "execution_count": null,
   "metadata": {},
   "outputs": [],
   "source": [
    "filesOther#[:20]\n",
    "# filesDocx[5]"
   ]
  },
  {
   "cell_type": "markdown",
   "metadata": {},
   "source": [
    "## Parse Outlook .Msg messages to DataFrame"
   ]
  },
  {
   "cell_type": "code",
   "execution_count": null,
   "metadata": {},
   "outputs": [],
   "source": [
    "import win32com.client\n",
    "outlook = win32com.client.Dispatch(\"Outlook.Application\").GetNamespace(\"MAPI\")"
   ]
  },
  {
   "cell_type": "code",
   "execution_count": null,
   "metadata": {},
   "outputs": [],
   "source": [
    "df1 = pd.DataFrame(columns = ['Text', 'Label', 'FileType']) #'Subject', 'Date', 'Sender', 'Text'])\n",
    "\n",
    "i=0\n",
    "for email in filesMsg:\n",
    "    \n",
    "    msg = outlook.OpenSharedItem(email)\n",
    "  \n",
    "    df1.loc[i] = [msg.Body, \n",
    "                  label,\n",
    "                 'email'\n",
    "                 ] # msg.Subject msg.SenderName\n",
    "    \n",
    "    i = i+1\n",
    "    del msg #reset msg instance to avoid error\n",
    "\n",
    "outlook.Application.Quit()    \n",
    "\n",
    "print(df1.shape)\n",
    "df1.head()\n",
    "\n",
    "# df.shape"
   ]
  },
  {
   "cell_type": "markdown",
   "metadata": {},
   "source": [
    "## Parse Docouments to DataFrame"
   ]
  },
  {
   "cell_type": "code",
   "execution_count": null,
   "metadata": {},
   "outputs": [],
   "source": [
    "word = win32com.client.Dispatch(\"Word.Application\")\n",
    "\n",
    "df2 = pd.DataFrame(columns = ['Text', 'Label', 'FileType']) \n",
    "\n",
    "i=0\n",
    "for doc in filesDocx:\n",
    "    \n",
    "    wb = word.Documents.Open(doc)\n",
    "    word.visible = False\n",
    "\n",
    "    df2.loc[i] = [wb.Range().Text, \n",
    "                  label, \n",
    "                 'document'] \n",
    "    \n",
    "    i = i+1\n",
    "    del wb #reset msg instance to avoid error\n",
    "\n",
    "word.Quit()\n",
    "\n",
    "df2.head()"
   ]
  },
  {
   "cell_type": "code",
   "execution_count": null,
   "metadata": {},
   "outputs": [],
   "source": [
    "# Check that the entire document is being parsed\n",
    "\n",
    "print(df2.shape)\n",
    "df2['Text'].apply(len)\n"
   ]
  },
  {
   "cell_type": "markdown",
   "metadata": {},
   "source": [
    "## Parse PDFs to Dataframe"
   ]
  },
  {
   "cell_type": "code",
   "execution_count": null,
   "metadata": {},
   "outputs": [],
   "source": [
    "import pdfminer \n",
    "\n",
    "from pdfminer.pdfinterp import PDFResourceManager, PDFPageInterpreter\n",
    "from pdfminer.pdfpage import PDFPage\n",
    "from pdfminer.converter import XMLConverter, HTMLConverter, TextConverter\n",
    "from pdfminer.layout import LAParams\n",
    "import io\n",
    "\n",
    "def pdfparser(data):\n",
    "\n",
    "    fp = open(data, 'rb')\n",
    "    rsrcmgr = PDFResourceManager()\n",
    "    retstr = io.StringIO()\n",
    "    codec = 'utf-8'\n",
    "    laparams = LAParams()\n",
    "    device = TextConverter(rsrcmgr, retstr, codec=codec, laparams=laparams)\n",
    "    # Create a PDF interpreter object.\n",
    "    interpreter = PDFPageInterpreter(rsrcmgr, device)\n",
    "    # Process each page contained in the document.\n",
    "\n",
    "    for page in PDFPage.get_pages(fp):\n",
    "        interpreter.process_page(page)\n",
    "        data =  retstr.getvalue()\n",
    "\n",
    "    return data\n",
    "\n",
    "# pdfparser(filesPdf[3])"
   ]
  },
  {
   "cell_type": "code",
   "execution_count": null,
   "metadata": {},
   "outputs": [],
   "source": [
    "df3 = pd.DataFrame(columns = ['Text', 'Label', 'FileType']) \n",
    "\n",
    "i=0\n",
    "for doc in filesPdf:\n",
    "    \n",
    "    df3.loc[i] = [pdfparser(doc), \n",
    "                  label,\n",
    "                 'pdf'] \n",
    "    i = i+1\n",
    "\n",
    "df3"
   ]
  },
  {
   "cell_type": "code",
   "execution_count": null,
   "metadata": {},
   "outputs": [],
   "source": [
    "# Check that the entire document is being parsed\n",
    "\n",
    "print(df3.shape)\n",
    "df3['Text'].apply(len)"
   ]
  },
  {
   "cell_type": "markdown",
   "metadata": {},
   "source": [
    "## Concatenate Text into one DataFrame"
   ]
  },
  {
   "cell_type": "code",
   "execution_count": null,
   "metadata": {},
   "outputs": [],
   "source": [
    "frames = [df1, df2, df3]\n",
    "\n",
    "df4 = pd.concat(frames)\n",
    "\n",
    "df4.shape"
   ]
  },
  {
   "cell_type": "code",
   "execution_count": null,
   "metadata": {},
   "outputs": [],
   "source": [
    "# Save Df for use later - **CHANGE FILENAME**\n",
    "\n",
    "filename = 'df.pkl'\n",
    "\n",
    "df4.to_pickle(filename) \n"
   ]
  },
  {
   "cell_type": "markdown",
   "metadata": {},
   "source": [
    "## Alternative Directory Search"
   ]
  },
  {
   "cell_type": "code",
   "execution_count": null,
   "metadata": {},
   "outputs": [],
   "source": [
    "import glob\n",
    "from pathlib import Path\n",
    "\n",
    "for file_path in Path(r'C:\\Users\\').glob('**/*.doc'):\n",
    "    print(file_path)pyenv-virtualenv\n",
    "    \n",
    "# f = glob.glob('docs/*.doc') + glob.glob('docs/*.DOC')\n",
    "\n",
    "outDir = r'C:\\Users\\'\n",
    "if not os.path.exists(outDir):\n",
    "    os.makedirs(outDir)\n",
    "for i in f:\n",
    "    os.system(\"catdoc -w '%s' > '%s'\" %\n",
    "              (i, outDir + '/' + re.sub(r'.*/([^.]+)\\.doc', r'\\1.txt', i, flags=re.IGNORECASE)))\n"
   ]
  }
 ],
 "metadata": {
  "kernelspec": {
   "display_name": "Python 3",
   "language": "python",
   "name": "python3"
  },
  "language_info": {
   "codemirror_mode": {
    "name": "ipython",
    "version": 3
   },
   "file_extension": ".py",
   "mimetype": "text/x-python",
   "name": "python",
   "nbconvert_exporter": "python",
   "pygments_lexer": "ipython3",
   "version": "3.8.0"
  },
  "pycharm": {
   "stem_cell": {
    "cell_type": "raw",
    "metadata": {
     "collapsed": false
    },
    "source": []
   }
  }
 },
 "nbformat": 4,
 "nbformat_minor": 4
}
